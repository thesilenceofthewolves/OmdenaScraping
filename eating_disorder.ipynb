{
 "cells": [
  {
   "cell_type": "code",
   "execution_count": null,
   "id": "df1b597e",
   "metadata": {},
   "outputs": [],
   "source": [
    "#to control crawlin rate \n",
    "# see here : https://www.geeksforgeeks.org/how-to-scrape-multiple-pages-of-a-website-using-python/\n",
    "from time import sleep\n",
    "from random import randint"
   ]
  },
  {
   "cell_type": "markdown",
   "id": "048c0d55",
   "metadata": {},
   "source": [
    "titles = soup.find_all(\"a\", class_=\"u-concealed\") // testing"
   ]
  },
  {
   "cell_type": "code",
   "execution_count": null,
   "id": "f87e9b35",
   "metadata": {},
   "outputs": [],
   "source": [
    "#creted an ampty list \"links\" but atted an intersting link\n",
    "links = ['https://www.edsupportforum.com/threads/i-hate-everyone-my-mum-is-a-bitch-i-dont-care-i-am-never-ever-ever-eating-again.581511/']\n",
    "# add a new link to LINKS / i the number of the page\n",
    "for i in range(1, 8):\n",
    "    url = \"https://www.edsupportforum.com/threads/binge-purge-free-support-thread.4399441/page-{}\".format(i)\n",
    "    #print(url) / test to see if the link have correct page and works\n",
    "    i += 1\n",
    "    links.append(url)\n",
    "    sleep(randint(2,10)) # crawling rate\n",
    "print(links)"
   ]
  },
  {
   "cell_type": "code",
   "execution_count": null,
   "id": "a4f71fc6",
   "metadata": {},
   "outputs": [],
   "source": [
    "import requests\n",
    "from bs4 import BeautifulSoup\n",
    "#create an ampty list to host the chats\n",
    "discussions = [] \n",
    "for link in links:\n",
    "    url == link # link replace the url of the website we want to scrap. links contains the url needed\n",
    "    page = requests.get(link)\n",
    "    soup = BeautifulSoup(page.content, 'html.parser')\n",
    "    #content of discussion/ Found them to be in a the div and class mentionned\n",
    "    forums = soup.find_all('div', class_=\"message-content js-messageContent\")\n",
    "    # loop in each discussion\n",
    "    for forum in forums:\n",
    "        #sleep(randint(2,10)) to control the crawl (can have your ip banned if not) 🥺\n",
    "        #print(soup.title) / testing\n",
    "        #print(forum.text) / testing\n",
    "        discussions.append(forum.text) \n",
    "        "
   ]
  },
  {
   "cell_type": "code",
   "execution_count": null,
   "id": "cbaf01d6",
   "metadata": {},
   "outputs": [],
   "source": [
    "#print(discussions)  /print the list discussion how it looks "
   ]
  },
  {
   "cell_type": "code",
   "execution_count": null,
   "id": "b1137185",
   "metadata": {},
   "outputs": [],
   "source": [
    "#create the file and write in\n",
    "\n",
    "file = open(\"sentiment_analys.doc\", \"w\")\n",
    "\n",
    "file.write(\"Discussion on Eating desorder based on website : '' \\n\")\n",
    "\n",
    "for disc in discussions:\n",
    "\n",
    "    file.write(disc)\n",
    "\n",
    "file.close()"
   ]
  },
  {
   "cell_type": "code",
   "execution_count": null,
   "id": "b3bc5ef6",
   "metadata": {},
   "outputs": [],
   "source": []
  }
 ],
 "metadata": {
  "kernelspec": {
   "display_name": "Python 3 (ipykernel)",
   "language": "python",
   "name": "python3"
  },
  "language_info": {
   "codemirror_mode": {
    "name": "ipython",
    "version": 3
   },
   "file_extension": ".py",
   "mimetype": "text/x-python",
   "name": "python",
   "nbconvert_exporter": "python",
   "pygments_lexer": "ipython3",
   "version": "3.9.12"
  }
 },
 "nbformat": 4,
 "nbformat_minor": 5
}
