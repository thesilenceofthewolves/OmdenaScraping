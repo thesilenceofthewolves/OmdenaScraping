{
 "cells": [
  {
   "cell_type": "code",
   "execution_count": 1,
   "id": "ac275a33",
   "metadata": {},
   "outputs": [],
   "source": [
    "#to control crawlin rate \n",
    "# see here : https://www.geeksforgeeks.org/how-to-scrape-multiple-pages-of-a-website-using-python/\n",
    "from time import sleep\n",
    "from random import randint"
   ]
  },
  {
   "cell_type": "code",
   "execution_count": 2,
   "id": "ed480e3b",
   "metadata": {},
   "outputs": [
    {
     "name": "stdout",
     "output_type": "stream",
     "text": [
      "https://www.edsupportforum.com/threads/binge-purge-free-support-thread.4399441/page-1\n",
      "https://www.edsupportforum.com/threads/binge-purge-free-support-thread.4399441/page-2\n"
     ]
    }
   ],
   "source": [
    "#creted an ampty list \"links\" but atted an intersting link\n",
    "links = []\n",
    "for i in range(1,3): # the topic has 33 pages\n",
    "    url = \"https://www.edsupportforum.com/threads/binge-purge-free-support-thread.4399441/page-{}\".format(i)\n",
    "    print(url) # test to see if the link have correct page and works\n",
    "    i += 1\n",
    "    links.append(url)\n",
    "    sleep(randint(2,10)) # crawling rate\n",
    "#print(links)"
   ]
  },
  {
   "cell_type": "code",
   "execution_count": 3,
   "id": "889a20eb",
   "metadata": {},
   "outputs": [],
   "source": [
    "import requests, scrapy\n",
    "from bs4 import BeautifulSoup"
   ]
  },
  {
   "cell_type": "code",
   "execution_count": 6,
   "id": "846bff97",
   "metadata": {},
   "outputs": [],
   "source": [
    "import requests\n",
    "from bs4 import BeautifulSoup\n",
    "#create an ampty list to host\n",
    "post_numbers = []\n",
    "discussions = []\n",
    "time_posted = []\n",
    "reactions = []\n",
    "titles = []\n",
    "for link in links:\n",
    "    url == link # link replace the url of the website we want to scrap. links contains the url needed\n",
    "    page = requests.get(link)\n",
    "    soup = BeautifulSoup(page.content, 'html.parser')\n",
    "    #Post number\n",
    "    bs_posts = soup.find_all('a', qid=\"post-number\")\n",
    "    for post_number in bs_posts:\n",
    "        post_numbers.append(post_number.text)\n",
    "    #content of discussion\n",
    "    bs_discussions = soup.find_all('div', class_='message-content js-messageContent')\n",
    "    for disc in bs_discussions:\n",
    "        discussions.append(disc.text)\n",
    "    #times = soup.find_all('time' )\n",
    "    bs_times = soup.find_all('time', qid='post-date-time')\n",
    "    for time in bs_times:\n",
    "        time_posted.append(time.text)\n",
    "    #Reactions to the post\n",
    "    bs_reactions = soup.find_all('div', qid=\"post-reaction-bar\")\n",
    "    for react in bs_reactions:\n",
    "        reactions.append(react.text)\n",
    "    #titles\n",
    "    bs_titles = soup.find_all('h1', qid=\"page-header\")\n",
    "    for title in bs_titles:\n",
    "        titles.append(title.text)\n",
    "\n",
    "\n",
    "   "
   ]
  },
  {
   "cell_type": "code",
   "execution_count": 10,
   "id": "fa6069ab",
   "metadata": {},
   "outputs": [],
   "source": [
    "import csv\n",
    "#create a list of headers\n",
    "headers = ['TOPICS', ' CHATS', 'TIMES', 'REACTS']\n",
    "#open a new file called sentiment.csv\n",
    "with open('sentiment_analys.csv', 'w', newline='') as csvfile:\n",
    "    #create a writer object with the file\n",
    "    writer = csv.writer(csvfile, delimiter = ',')\n",
    "    writer.writerow(headers)\n",
    "    for r in range(len(discussions)):\n",
    "        #Create a new row with the  and description at that point in the loop\n",
    "        row = [title.text, discussions[r], time_posted[r], reactions[r]]\n",
    "        writer.writerow(row)\n"
   ]
  },
  {
   "cell_type": "code",
   "execution_count": null,
   "id": "4189bbc8",
   "metadata": {},
   "outputs": [],
   "source": []
  }
 ],
 "metadata": {
  "kernelspec": {
   "display_name": "Python 3 (ipykernel)",
   "language": "python",
   "name": "python3"
  },
  "language_info": {
   "codemirror_mode": {
    "name": "ipython",
    "version": 3
   },
   "file_extension": ".py",
   "mimetype": "text/x-python",
   "name": "python",
   "nbconvert_exporter": "python",
   "pygments_lexer": "ipython3",
   "version": "3.9.12"
  }
 },
 "nbformat": 4,
 "nbformat_minor": 5
}
